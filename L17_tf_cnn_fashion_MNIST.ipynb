{
 "cells": [
  {
   "cell_type": "code",
   "execution_count": null,
   "id": "fd66d329",
   "metadata": {},
   "outputs": [],
   "source": [
    "import os\n",
    "import numpy as np\n",
    "import pandas as pd\n",
    "import seaborn as sns\n",
    "import matplotlib.pyplot as plt\n",
    "\n",
    "import tensorflow as tf\n",
    "\n",
    "from sklearn.metrics import accuracy_score, confusion_matrix, classification_report, ConfusionMatrixDisplay\n",
    "from sklearn.model_selection import train_test_split\n",
    "from sklearn.preprocessing import StandardScaler, MinMaxScaler\n",
    "\n",
    "from keras import Sequential\n",
    "from keras.layers import Dense\n",
    "from helper import fn_plot_tf_hist, fn_plot_confusion_matrix\n",
    "import time"
   ]
  },
  {
   "cell_type": "code",
   "execution_count": null,
   "id": "475126ce",
   "metadata": {},
   "outputs": [],
   "source": [
    "inpDir = os.path.join( '..', 'input')\n",
    "\n",
    "\n",
    "modelDir = 'Neural Network'\n",
    "\n",
    "outDir = os.path.join('output')\n",
    "subDir = 'fashion_mnist'\n",
    "altName = 'do_bn_relu_fashion'\n",
    "\n",
    "# define and set random state \n",
    "RANDOM_STATE = 24\n",
    "np.random.seed(RANDOM_STATE) # Set Random Seed for reproducible  results\n",
    "tf.random.set_seed(RANDOM_STATE)\n",
    "\n",
    "ALPHA = 0.001     # learning rate\n",
    "EPOCHS = 10\n",
    "BATCH_SIZE = 64\n",
    "\n",
    "\n",
    "# parameters for Matplotlib\n",
    "params = {'legend.fontsize': 'x-large',\n",
    "          'figure.figsize': (15, 6),\n",
    "          'axes.labelsize': 'x-large',\n",
    "          'axes.titlesize':'x-large',\n",
    "          'xtick.labelsize':'x-large',\n",
    "          'ytick.labelsize':'x-large',\n",
    "          'savefig.dpi': 150,\n",
    "          'image.cmap': 'jet',\n",
    "          'image.interpolation': 'none',\n",
    "          'savefig.bbox' : 'tight',\n",
    "          'lines.linewidth' : 2,\n",
    "          'legend.numpoints' : 1\n",
    "         }\n",
    "CMAP = plt.cm.rainbow\n",
    "plt.rcParams.update(params);\n",
    "plt.set_cmap(CMAP);\n",
    "plt.style.use('seaborn-v0_8-darkgrid') # plt.style.use('ggplot')\n",
    "\n",
    "TEST_SIZE=0.2\n",
    "\n",
    "np.set_printoptions(precision=3, suppress=True)\n",
    "\n",
    "pd.set_option(\"display.max_columns\", 8)\n",
    "pd.set_option('display.precision', 2)\n",
    "\n",
    "__all__ = ['np', 'display', 'plt', 'pd', 'sklearn', 'seaborn']"
   ]
  },
  {
   "cell_type": "code",
   "execution_count": null,
   "id": "81692c3c",
   "metadata": {},
   "outputs": [],
   "source": [
    "train_df=pd.read_csv(os.path.join(inpDir, 'fashion-mnist_train.csv'))\n",
    "test_df=pd.read_csv(os.path.join(inpDir, 'fashion-mnist_test.csv'))"
   ]
  },
  {
   "cell_type": "code",
   "execution_count": null,
   "id": "f0b43c65",
   "metadata": {},
   "outputs": [],
   "source": [
    "train_df"
   ]
  },
  {
   "cell_type": "code",
   "execution_count": null,
   "id": "fd35945e",
   "metadata": {},
   "outputs": [],
   "source": [
    "test_df"
   ]
  },
  {
   "cell_type": "code",
   "execution_count": null,
   "id": "0e5acef0",
   "metadata": {},
   "outputs": [],
   "source": [
    "train_df.shape, test_df.shape"
   ]
  },
  {
   "cell_type": "code",
   "execution_count": null,
   "id": "93c14ae8",
   "metadata": {},
   "outputs": [],
   "source": [
    "class_names = {0: 't-shirt/top', 1: 'Trouser', 2: 'Pullover', 3: 'Dress', 4: 'Coat',\n",
    "              5: 'Sandal', 6: 'Shirt', 7: 'Sneaker', 8: 'Bag', 9: 'Ankle boot'}"
   ]
  },
  {
   "cell_type": "code",
   "execution_count": null,
   "id": "c91916b2",
   "metadata": {},
   "outputs": [],
   "source": [
    "train_df['label'].unique()"
   ]
  },
  {
   "cell_type": "code",
   "execution_count": null,
   "id": "9739cea5",
   "metadata": {},
   "outputs": [],
   "source": [
    "plot_df = train_df.sample(n = 100)\n",
    "\n",
    "fig = plt.figure(figsize = (15,12))\n",
    "\n",
    "i = 0\n",
    "\n",
    "for _ , row in plot_df.iterrows():\n",
    "    i += 1\n",
    "    image = row.values[1:].reshape(28,28)\n",
    "    ax = fig.add_subplot(10,10,(i), xticks = [], yticks = [])\n",
    "    ax.imshow(image, cmap = plt.cm.binary,interpolation='nearest')\n",
    "    ax.text(2,4, str(row.iloc[0]), color = 'b')\n",
    "    ax.text(2,25, class_names[row.iloc[0]], color = 'r')\n",
    "plt.tight_layout()\n",
    "plt.show()"
   ]
  },
  {
   "cell_type": "code",
   "execution_count": null,
   "id": "60e51eff",
   "metadata": {},
   "outputs": [],
   "source": [
    "def fn_plot_label(train_df,test_df):\n",
    "    plt.figure(figsize = (15,5))\n",
    "    plt.subplot(1,2,1)\n",
    "    train_df['label'].value_counts().plot(kind = 'bar', title = 'Train', color = 'DarkBlue', alpha = 0.8)\n",
    "\n",
    "    plt.subplot(1,2,2)\n",
    "    test_df['label'].value_counts().plot(kind = 'bar', title = 'Test', color = 'Orange', alpha = 0.8)"
   ]
  },
  {
   "cell_type": "code",
   "execution_count": null,
   "id": "a1100bf6",
   "metadata": {},
   "outputs": [],
   "source": [
    "fn_plot_label(train_df,test_df)"
   ]
  },
  {
   "cell_type": "code",
   "execution_count": null,
   "id": "676cbbf6",
   "metadata": {},
   "outputs": [],
   "source": [
    "def split_feature_label(row):\n",
    "    '''\n",
    "    Args:\n",
    "        row: array of 785 values\n",
    "    return: \n",
    "        image, label\n",
    "    '''    \n",
    "    \n",
    "    image = tf.reshape(row[1:], [28,28,1])\n",
    "    \n",
    "    label = row[0]\n",
    "    return image, label"
   ]
  },
  {
   "cell_type": "code",
   "execution_count": null,
   "id": "9374633d",
   "metadata": {},
   "outputs": [],
   "source": [
    "# Creating datasets\n",
    "\n",
    "tmp_ds = tf.data.Dataset.from_tensor_slices(train_df)\n",
    "\n",
    "train_ds = tmp_ds.map(split_feature_label)\n",
    "\n",
    "tmp_ds = tf.data.Dataset.from_tensor_slices(test_df)\n",
    "\n",
    "test_ds = tmp_ds.map(split_feature_label)\n",
    "\n",
    "train_ds = train_ds.batch(BATCH_SIZE)\n",
    "\n",
    "test_ds = test_ds.batch(BATCH_SIZE)"
   ]
  },
  {
   "cell_type": "code",
   "execution_count": null,
   "id": "d998545c",
   "metadata": {},
   "outputs": [],
   "source": [
    "for imgs, labels in train_ds.take(1):\n",
    "    for i in range(BATCH_SIZE):\n",
    "        plt.subplot(8, int(BATCH_SIZE // 8), i + 1)\n",
    "        plt.grid(False)\n",
    "        plt.imshow(imgs[i].numpy().astype('uint8'), cmap = plt.cm.binary)\n",
    "        plt.title(class_names[labels[i].numpy()])\n",
    "        plt.text(2,4, labels[i].numpy(), color = 'b', fontsize = 10)\n",
    "        plt.axis('off')\n",
    "plt.tight_layout();"
   ]
  },
  {
   "cell_type": "code",
   "execution_count": null,
   "id": "040cad32",
   "metadata": {},
   "outputs": [],
   "source": [
    "for imgs, labels in test_ds.take(1):\n",
    "    for i in range(BATCH_SIZE):\n",
    "        plt.subplot(8, int(BATCH_SIZE // 8), i + 1)\n",
    "        plt.grid(False)\n",
    "        plt.imshow(imgs[i].numpy().astype('uint8'), cmap = plt.cm.binary)\n",
    "        plt.title(class_names[labels[i].numpy()])\n",
    "        plt.text(2,4, labels[i].numpy(), color = 'b', fontsize = 10)\n",
    "        plt.axis('off')\n",
    "plt.tight_layout();"
   ]
  },
  {
   "cell_type": "code",
   "execution_count": null,
   "id": "987a5f1f",
   "metadata": {},
   "outputs": [],
   "source": [
    "normal_layer = tf.keras.layers.Rescaling(1./255.)\n",
    "\n",
    "img_batch, lbl_batch = next(iter(train_ds))\n",
    "\n",
    "img = img_batch[0].numpy()\n",
    "\n",
    "img.max(), img.min()"
   ]
  },
  {
   "cell_type": "code",
   "execution_count": null,
   "id": "f6408982",
   "metadata": {},
   "outputs": [],
   "source": [
    "norm_ds = train_ds.map(lambda x, y : (normal_layer(x), y))\n",
    "\n",
    "img_batch, lbl_batch = next(iter(norm_ds))\n",
    "\n",
    "img = img_batch[0].numpy()\n",
    "\n",
    "img.max(), img.min()"
   ]
  },
  {
   "cell_type": "code",
   "execution_count": null,
   "id": "ab1e90b2",
   "metadata": {},
   "outputs": [],
   "source": [
    "train_ds = train_ds.cache().prefetch(buffer_size = tf.data.AUTOTUNE)\n",
    "test_ds = test_ds.cache().prefetch(buffer_size = tf.data.AUTOTUNE)"
   ]
  },
  {
   "cell_type": "code",
   "execution_count": null,
   "id": "5619e5cf",
   "metadata": {},
   "outputs": [],
   "source": []
  },
  {
   "cell_type": "code",
   "execution_count": null,
   "id": "ec2b1aa4",
   "metadata": {},
   "outputs": [],
   "source": [
    "model = tf.keras.Sequential()\n",
    "\n",
    "model.add( tf.keras.layers.Rescaling( 1./255 ))\n",
    "\n",
    "# Conv 1\n",
    "model.add(tf.keras.layers.Conv2D(32, (3, 3),activation = 'relu', input_shape = (28,28,1)) )    # 28 x 28 x 32\n",
    "          \n",
    "# MaxPool 1\n",
    "model.add( tf.keras.layers.MaxPool2D((2,2))) # 14 x 14 x 32\n",
    "          \n",
    "\n",
    "# Conv 2\n",
    "model.add( tf.keras.layers.Conv2D(64, (3, 3),\n",
    "                                activation = 'relu')   )  # 12 x 12 x 64       \n",
    "          \n",
    "# MaxPool 2\n",
    "model.add( tf.keras.layers.MaxPool2D((2,2))) # 6 x 6 x 64\n",
    "          \n",
    "# Conv 3\n",
    "model.add( tf.keras.layers.Conv2D(128, (3, 3),\n",
    "                                activation = 'relu')    ) # 4 x 4 x 128       \n",
    "          \n",
    "# Head\n",
    "model.add( tf.keras.layers.Flatten()) # 2048\n",
    "model.add( tf.keras.layers.Dense(128,activation='relu')) # 128\n",
    "model.add( tf.keras.layers.Dense(10)) # 2048\n",
    "\n",
    "          "
   ]
  },
  {
   "cell_type": "code",
   "execution_count": null,
   "id": "60ad6913",
   "metadata": {},
   "outputs": [],
   "source": [
    "%load_ext tensorboard"
   ]
  },
  {
   "cell_type": "code",
   "execution_count": null,
   "id": "50b45969",
   "metadata": {},
   "outputs": [],
   "source": [
    "optimizer = tf.keras.optimizers.Adam()\n",
    "\n",
    "loss_fn = tf.keras.losses.SparseCategoricalCrossentropy( from_logits=True)\n",
    "\n",
    "model.compile(optimizer=optimizer,loss=loss_fn,metrics=['accuracy'])"
   ]
  },
  {
   "cell_type": "code",
   "execution_count": null,
   "id": "acdc8fdc",
   "metadata": {},
   "outputs": [],
   "source": [
    "# record in tensorboard\n",
    "\n",
    "import datetime\n",
    "\n",
    "log_dir = '..log/fit'+datetime.datetime.now().strftime('%Y%m%d-%H%M%S')\n",
    "\n",
    "tb_callbacks = tf.keras.callbacks.TensorBoard(log_dir=log_dir,histogram_freq=1)"
   ]
  },
  {
   "cell_type": "code",
   "execution_count": null,
   "id": "bbdb9399",
   "metadata": {},
   "outputs": [],
   "source": [
    "checkpoint_path = os.path.join(modelDir, subDir, 'all_in.weights.h5')\n",
    "\n",
    "PATIENCE = 20\n",
    "LR_FACTOR = 0.1\n",
    "LR_PATIENCE = 1000\n",
    "EPOCHS = 1000\n",
    "\n",
    "checkpt_callback = tf.keras.callbacks.ModelCheckpoint(checkpoint_path,\n",
    "                                                      monitor = 'val_loss',\n",
    "                                                      verbose = 1,\n",
    "                                                      save_weights_only = True,\n",
    "                                                      save_best_only = True)\n",
    "\n",
    "es_callback = tf.keras.callbacks.EarlyStopping(monitor = 'val_loss',\n",
    "                                               patience = PATIENCE,\n",
    "                                               verbose = 1,\n",
    "                                               restore_best_weights = True)\n",
    "\n",
    "lr_callback = tf.keras.callbacks.ReduceLROnPlateau(monitor = 'vall_loss',\n",
    "                                                   factor = LR_FACTOR,\n",
    "                                                   patience = LR_PATIENCE,\n",
    "                                                   verbose = 1)"
   ]
  },
  {
   "cell_type": "code",
   "execution_count": null,
   "id": "c98e4ff2",
   "metadata": {},
   "outputs": [],
   "source": [
    "history = model.fit(train_ds,\n",
    "                    epochs=EPOCHS, \n",
    "                    validation_data=(test_ds),\n",
    "                    batch_size= BATCH_SIZE, \n",
    "                    verbose=1,\n",
    "                    callbacks = [checkpt_callback, lr_callback, es_callback],\n",
    "                    )"
   ]
  },
  {
   "cell_type": "code",
   "execution_count": null,
   "id": "e3ac122b",
   "metadata": {},
   "outputs": [],
   "source": [
    "fn_plot_tf_hist(pd.DataFrame(history.history))"
   ]
  },
  {
   "cell_type": "code",
   "execution_count": null,
   "id": "ffd8c381",
   "metadata": {},
   "outputs": [],
   "source": [
    "test_loss,test_acc = model.evaluate(test_ds)\n",
    "test_loss,test_acc"
   ]
  },
  {
   "cell_type": "code",
   "execution_count": null,
   "id": "4c0bc2a1",
   "metadata": {},
   "outputs": [],
   "source": [
    "history.history"
   ]
  },
  {
   "cell_type": "code",
   "execution_count": null,
   "id": "9214330a",
   "metadata": {},
   "outputs": [],
   "source": [
    "model.summary()"
   ]
  },
  {
   "cell_type": "code",
   "execution_count": null,
   "id": "dddd571a",
   "metadata": {},
   "outputs": [],
   "source": [
    "y_test = tf.concat([y for x,y in test_ds],axis=0).numpy()\n",
    "\n",
    "y_test.shape"
   ]
  },
  {
   "cell_type": "code",
   "execution_count": null,
   "id": "bcc73cc6",
   "metadata": {},
   "outputs": [],
   "source": [
    "yhat = model.predict(test_ds)\n",
    "\n",
    "y_pred = yhat.argmax(axis = 1)\n"
   ]
  },
  {
   "cell_type": "code",
   "execution_count": null,
   "id": "6e54b5e2",
   "metadata": {},
   "outputs": [],
   "source": [
    "fn_plot_confusion_matrix(y_test,y_pred,labels=class_names)"
   ]
  },
  {
   "cell_type": "code",
   "execution_count": null,
   "id": "a2e47eac",
   "metadata": {},
   "outputs": [],
   "source": [
    "test_df['pred'] = y_pred\n",
    "plot_df = test_df.sample(n = 50)"
   ]
  },
  {
   "cell_type": "code",
   "execution_count": null,
   "id": "1121b489",
   "metadata": {},
   "outputs": [],
   "source": [
    "fig = plt.figure(figsize=(15,10))\n",
    "\n",
    "i = 0\n",
    "\n",
    "for _ , rows in plot_df.iterrows():\n",
    "    \n",
    "    i = i+1\n",
    "    img = row[1:-1].reshape(28,28)\n",
    "    color = 'cyan'\n",
    "    \n",
    "    if row.iloc[0]!=row.iloc[-1]:\n",
    "        color = 'red'\n",
    "    props = dict(boxstyle = 'round', facecolor = color, alpha = 0.5)\n",
    "        \n",
    "    ax= fig.add_subplot(5,10,(i),xticks = [],yticks = [])\n",
    "    ax.imshow(imgs[i].astype('uint8'),cmap = plt.cm.binary)\n",
    "    ax.set_title(class_names[row.iloc[0]])\n",
    "\n",
    "plt.axis('off')\n",
    "plt.tight_layout();"
   ]
  },
  {
   "cell_type": "code",
   "execution_count": null,
   "id": "b2d0d37b",
   "metadata": {},
   "outputs": [],
   "source": []
  },
  {
   "cell_type": "code",
   "execution_count": null,
   "id": "a9866f90",
   "metadata": {},
   "outputs": [],
   "source": []
  },
  {
   "cell_type": "code",
   "execution_count": null,
   "id": "e9e807c3",
   "metadata": {},
   "outputs": [],
   "source": []
  },
  {
   "cell_type": "code",
   "execution_count": null,
   "id": "cc2e95c2",
   "metadata": {},
   "outputs": [],
   "source": []
  },
  {
   "cell_type": "code",
   "execution_count": null,
   "id": "0c1e3a38",
   "metadata": {},
   "outputs": [],
   "source": []
  },
  {
   "cell_type": "code",
   "execution_count": null,
   "id": "b5533f3e",
   "metadata": {},
   "outputs": [],
   "source": []
  },
  {
   "cell_type": "code",
   "execution_count": null,
   "id": "d53b5a50",
   "metadata": {},
   "outputs": [],
   "source": []
  },
  {
   "cell_type": "code",
   "execution_count": null,
   "id": "83411c85",
   "metadata": {},
   "outputs": [],
   "source": []
  },
  {
   "cell_type": "code",
   "execution_count": null,
   "id": "32a3d62b",
   "metadata": {},
   "outputs": [],
   "source": []
  },
  {
   "cell_type": "code",
   "execution_count": null,
   "id": "3df13e3a",
   "metadata": {},
   "outputs": [],
   "source": []
  },
  {
   "cell_type": "code",
   "execution_count": null,
   "id": "9b21c158",
   "metadata": {},
   "outputs": [],
   "source": []
  },
  {
   "cell_type": "code",
   "execution_count": null,
   "id": "7615a05a",
   "metadata": {},
   "outputs": [],
   "source": []
  },
  {
   "cell_type": "code",
   "execution_count": null,
   "id": "846a0bad",
   "metadata": {},
   "outputs": [],
   "source": []
  },
  {
   "cell_type": "code",
   "execution_count": null,
   "id": "600fe4ec",
   "metadata": {},
   "outputs": [],
   "source": []
  },
  {
   "cell_type": "code",
   "execution_count": null,
   "id": "0298e0e8",
   "metadata": {},
   "outputs": [],
   "source": []
  },
  {
   "cell_type": "code",
   "execution_count": null,
   "id": "07d963bf",
   "metadata": {},
   "outputs": [],
   "source": []
  },
  {
   "cell_type": "code",
   "execution_count": null,
   "id": "c0d2eaae",
   "metadata": {},
   "outputs": [],
   "source": []
  },
  {
   "cell_type": "code",
   "execution_count": null,
   "id": "e8282365",
   "metadata": {},
   "outputs": [],
   "source": []
  },
  {
   "cell_type": "code",
   "execution_count": null,
   "id": "1ca4ae6b",
   "metadata": {},
   "outputs": [],
   "source": []
  },
  {
   "cell_type": "code",
   "execution_count": null,
   "id": "7ea69a40",
   "metadata": {},
   "outputs": [],
   "source": []
  },
  {
   "cell_type": "code",
   "execution_count": null,
   "id": "f328086d",
   "metadata": {},
   "outputs": [],
   "source": []
  },
  {
   "cell_type": "code",
   "execution_count": null,
   "id": "8b699513",
   "metadata": {},
   "outputs": [],
   "source": []
  },
  {
   "cell_type": "code",
   "execution_count": null,
   "id": "fc29e5d4",
   "metadata": {},
   "outputs": [],
   "source": []
  },
  {
   "cell_type": "code",
   "execution_count": null,
   "id": "152247c3",
   "metadata": {},
   "outputs": [],
   "source": []
  },
  {
   "cell_type": "code",
   "execution_count": null,
   "id": "a62908ed",
   "metadata": {},
   "outputs": [],
   "source": []
  },
  {
   "cell_type": "code",
   "execution_count": null,
   "id": "98e07601",
   "metadata": {},
   "outputs": [],
   "source": []
  },
  {
   "cell_type": "code",
   "execution_count": null,
   "id": "bab5284a",
   "metadata": {},
   "outputs": [],
   "source": []
  },
  {
   "cell_type": "code",
   "execution_count": null,
   "id": "7492e74c",
   "metadata": {},
   "outputs": [],
   "source": []
  },
  {
   "cell_type": "code",
   "execution_count": null,
   "id": "d3b9684f",
   "metadata": {},
   "outputs": [],
   "source": []
  },
  {
   "cell_type": "code",
   "execution_count": null,
   "id": "d84589ed",
   "metadata": {},
   "outputs": [],
   "source": []
  },
  {
   "cell_type": "code",
   "execution_count": null,
   "id": "93fac0a2",
   "metadata": {},
   "outputs": [],
   "source": []
  },
  {
   "cell_type": "code",
   "execution_count": null,
   "id": "eb544201",
   "metadata": {},
   "outputs": [],
   "source": []
  },
  {
   "cell_type": "code",
   "execution_count": null,
   "id": "524822e8",
   "metadata": {},
   "outputs": [],
   "source": []
  },
  {
   "cell_type": "code",
   "execution_count": null,
   "id": "e0c5c3e3",
   "metadata": {},
   "outputs": [],
   "source": []
  },
  {
   "cell_type": "code",
   "execution_count": null,
   "id": "62ed918c",
   "metadata": {},
   "outputs": [],
   "source": []
  },
  {
   "cell_type": "code",
   "execution_count": null,
   "id": "ddefc4d2",
   "metadata": {},
   "outputs": [],
   "source": []
  },
  {
   "cell_type": "code",
   "execution_count": null,
   "id": "fbf66e94",
   "metadata": {},
   "outputs": [],
   "source": []
  },
  {
   "cell_type": "code",
   "execution_count": null,
   "id": "228e9d03",
   "metadata": {},
   "outputs": [],
   "source": []
  },
  {
   "cell_type": "code",
   "execution_count": null,
   "id": "6a63ea98",
   "metadata": {},
   "outputs": [],
   "source": []
  }
 ],
 "metadata": {
  "kernelspec": {
   "display_name": "Python 3 (ipykernel)",
   "language": "python",
   "name": "python3"
  },
  "language_info": {
   "codemirror_mode": {
    "name": "ipython",
    "version": 3
   },
   "file_extension": ".py",
   "mimetype": "text/x-python",
   "name": "python",
   "nbconvert_exporter": "python",
   "pygments_lexer": "ipython3",
   "version": "3.11.5"
  }
 },
 "nbformat": 4,
 "nbformat_minor": 5
}
